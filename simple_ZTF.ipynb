{
 "cells": [
  {
   "cell_type": "code",
   "execution_count": null,
   "id": "7bc3acf0-5b57-40b3-96a3-2e9ade1c5069",
   "metadata": {
    "tags": []
   },
   "outputs": [],
   "source": [
    "import numpy as np\n",
    "from light_curve.light_curve_py import RainbowFit\n",
    "import fink_utils.photometry.conversion as convert\n",
    "import requests\n",
    "import io\n",
    "import pandas as pd\n",
    "import matplotlib.pyplot as plt\n",
    "\n",
    "def bb_nu(wave_aa, T):\n",
    "    \"\"\"Black-body spectral model\"\"\"\n",
    "    nu = 3e10 / (wave_aa * 1e-8)\n",
    "    return 2 * 6.626e-27 * nu**3 / 3e10**2 / np.expm1(6.626e-27 * nu / (1.38e-16 * T))"
   ]
  },
  {
   "cell_type": "code",
   "execution_count": null,
   "id": "880b4004-8731-493d-baf3-495068e2d7c4",
   "metadata": {
    "tags": []
   },
   "outputs": [],
   "source": [
    "obj = pd.read_csv(\"ZTF_transfer/ZTF_req_167814.csv\")\n",
    "obj = obj[(obj['FLT'] == 'r') | (obj['FLT'] == 'g')]\n",
    "\n",
    "#Keep rising part\n",
    "#obj = obj[(obj['MJD'] < obj['MJD'][np.argmax(obj['FLUXCAL'])])]\n",
    "\n",
    "flux = obj['FLUXCAL']\n",
    "fluxerr = obj['FLUXCALERR']\n",
    "band = obj['FLT']\n",
    "norm = flux[band == 'r'].max()\n",
    "flux, fluxerr = flux/norm, fluxerr/norm\n",
    "mjd = obj['MJD']"
   ]
  },
  {
   "cell_type": "code",
   "execution_count": null,
   "id": "31d40555-6b12-48a5-b945-7cf3031a68d1",
   "metadata": {},
   "outputs": [],
   "source": [
    "%%time \n",
    "\n",
    "band_wave_aa = {\"g\": 4770.0, \"r\": 6231.0, \"i\": 7625.0} #\n",
    "feature = RainbowFit.from_angstrom(band_wave_aa, with_baseline=False,\\\n",
    "                                   temperature='sigmoid', bolometric='doublexp') \n",
    "result = feature(mjd, flux, sigma=fluxerr, band=band)\n",
    "\n",
    "X = np.linspace(mjd.min()-10, mjd.max()+10, 100)\n",
    "\n",
    "plt.figure(figsize=(12, 8))\n",
    "\n",
    "colors = ['green', 'red', 'black']\n",
    "for idx,i in enumerate(band_wave_aa):\n",
    "    mask = band == i\n",
    "    f = flux[mask]\n",
    "    ferr = fluxerr[mask]\n",
    "    t = mjd[mask]\n",
    "    rainbow = feature.model(X, i, *result)\n",
    "    plt.errorbar(t, f, yerr=ferr, fmt='o', alpha=.7, color=colors[idx])\n",
    "    plt.plot(X, rainbow, linewidth=5, label=i, color=colors[idx])\n",
    "    \n",
    "plt.legend()\n",
    "print(result)"
   ]
  },
  {
   "cell_type": "code",
   "execution_count": null,
   "id": "ac80ba3e-cb54-4daf-90b8-a946c0ec0d91",
   "metadata": {
    "tags": []
   },
   "outputs": [],
   "source": [
    "feature."
   ]
  },
  {
   "cell_type": "code",
   "execution_count": 1,
   "id": "f706322e-b734-470d-9141-2d88c8998e44",
   "metadata": {
    "tags": []
   },
   "outputs": [],
   "source": [
    "import rainbow_extractor as rx\n",
    "import pandas as pd\n",
    "\n",
    "files = ['ZTF21abbzjeq.csv', 'ZTF24aaejsaf.csv', 'ZTF19abxxogb.csv']\n",
    "\n",
    "lcs = [rx.ZTF_lightcurve(\"ZTF_transfer/\"+file) for file in files]\n",
    "fex = rx.FeatureExtractor(pd.DataFrame(lcs))\n",
    "fex.format_all()\n",
    "fex.full_feature_extraction()"
   ]
  },
  {
   "cell_type": "code",
   "execution_count": 7,
   "id": "1c12d15b-0ce1-404e-b225-c32bbe93a038",
   "metadata": {
    "tags": []
   },
   "outputs": [
    {
     "data": {
      "text/plain": [
       "Index(['lc', 'type', 'bolometric', 'temperature', 'fit_error', 'rise_time_exp',\n",
       "       'pseudo_amplitude_exp', 'reference_time_sigmoid', 'amplitude_sigmoid',\n",
       "       'rise_time_sigmoid', 'reference_time_linexp', 'amplitude_linexp',\n",
       "       'rise_time_linexp', 'reference_time_bazin', 'amplitude_bazin',\n",
       "       'rise_time_bazin', 'fall_time_bazin', 'reference_time_doublexp',\n",
       "       'amplitude_doublexp', 'time1_doublexp', 'time2_doublexp', 'p_doublexp',\n",
       "       'T_constant', 'reference_time_sigmoid', 'Tmin_sigmoid', 'Tmax_sigmoid',\n",
       "       't_color_sigmoid', 'ra', 'dec'],\n",
       "      dtype='object')"
      ]
     },
     "execution_count": 7,
     "metadata": {},
     "output_type": "execute_result"
    }
   ],
   "source": [
    "fex.features.keys()"
   ]
  },
  {
   "cell_type": "code",
   "execution_count": null,
   "id": "2ea52b19-6fe2-46dc-9160-6d23eff4538b",
   "metadata": {
    "tags": []
   },
   "outputs": [],
   "source": [
    "rx.FeatureExtractor.plot_fit(fex.features.iloc[0], ylim=[-.1, 1.2], xlim=None)"
   ]
  },
  {
   "cell_type": "code",
   "execution_count": null,
   "id": "5bd3945a-b801-4b38-9743-d908c46e4d87",
   "metadata": {},
   "outputs": [],
   "source": []
  }
 ],
 "metadata": {
  "kernelspec": {
   "display_name": "Python 3 (ipykernel)",
   "language": "python",
   "name": "python3"
  },
  "language_info": {
   "codemirror_mode": {
    "name": "ipython",
    "version": 3
   },
   "file_extension": ".py",
   "mimetype": "text/x-python",
   "name": "python",
   "nbconvert_exporter": "python",
   "pygments_lexer": "ipython3",
   "version": "3.9.14"
  }
 },
 "nbformat": 4,
 "nbformat_minor": 5
}
