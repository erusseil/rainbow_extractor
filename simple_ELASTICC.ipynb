{
 "cells": [
  {
   "cell_type": "code",
   "execution_count": 1,
   "id": "09e40b6e-0ebe-4227-bcfb-08dec79039e1",
   "metadata": {
    "tags": []
   },
   "outputs": [
    {
     "name": "stdout",
     "output_type": "stream",
     "text": [
      "CPU times: user 491 ms, sys: 90.3 ms, total: 582 ms\n",
      "Wall time: 464 ms\n",
      "CPU times: user 3.95 s, sys: 165 ms, total: 4.11 s\n",
      "Wall time: 3.94 s\n"
     ]
    }
   ],
   "source": [
    "import rainbow_extractor as rx\n",
    "import pandas as pd\n",
    "import numpy as np\n",
    "\n",
    "folder = 'ftransfer_elasticc_v1_2024-03-14_33786/'\n",
    "files = ['classId=111/', 'classId=112/']\n",
    "\n",
    "%time lcs = [rx.ELAsTiCC_lightcurve.read_parquet_withclass(folder+file, n=10) for file in files]\n",
    "lcs = [element for sublist in lcs for element in sublist] #Flatten list\n",
    "\n",
    "fex = rx.FeatureExtractor(pd.DataFrame(lcs))\n",
    "fex.format_all()\n",
    "%time fex.full_feature_extraction()\n",
    "\n",
    "plot = fex.features[fex.features['bolometric'] == fex.features['bolometric']]\n"
   ]
  },
  {
   "cell_type": "code",
   "execution_count": null,
   "id": "777466a5-0554-4cc9-bcd1-5f34f5724d8b",
   "metadata": {
    "tags": []
   },
   "outputs": [],
   "source": [
    "import random\n",
    "idx = random.randint(0, len(plot))\n",
    "\n",
    "toplot = plot.iloc[idx]\n",
    "rx.FeatureExtractor.plot_fit(toplot) # , ylim=[-.1, 1.5], xlim=[-50, 400]\n",
    "print(toplot.bolometric, toplot.temperature)\n",
    "print(toplot['lc'].rising)"
   ]
  },
  {
   "cell_type": "code",
   "execution_count": null,
   "id": "5bd3945a-b801-4b38-9743-d908c46e4d87",
   "metadata": {},
   "outputs": [],
   "source": [
    "data = pd.concat([pd.read_pickle(f'features/elasticc_features_{i}.pkl') for i in range(20)], ignore_index=True)\n",
    "features = data.iloc[:, 4:]"
   ]
  },
  {
   "cell_type": "code",
   "execution_count": null,
   "id": "1f62dd07-d572-4475-80bc-86f67b31e024",
   "metadata": {
    "tags": []
   },
   "outputs": [],
   "source": [
    "features"
   ]
  },
  {
   "cell_type": "code",
   "execution_count": null,
   "id": "53dc971f-b35d-49a1-8651-5eebb4757bbd",
   "metadata": {
    "tags": []
   },
   "outputs": [],
   "source": [
    "from sklearn.model_selection import train_test_split\n",
    "from sklearn.ensemble import RandomForestClassifier\n",
    "\n",
    "X_train, X_test, y_train, y_test = train_test_split(features, data['type'], test_size=0.2, random_state=42)\n",
    "clf = RandomForestClassifier(random_state=0)\n",
    "clf.fit(X_train, y_train)"
   ]
  },
  {
   "cell_type": "code",
   "execution_count": null,
   "id": "81df262a-1200-48b0-b73f-8fc13189385c",
   "metadata": {
    "tags": []
   },
   "outputs": [],
   "source": [
    "clf.score(X_test, y_test)"
   ]
  },
  {
   "cell_type": "code",
   "execution_count": null,
   "id": "ffe5bc75-27c2-4657-8835-cf699eb56ae0",
   "metadata": {
    "tags": []
   },
   "outputs": [],
   "source": [
    "ordered_features, ordered_feature_names = zip(*sorted(zip(clf.feature_importances_, list(X_train.keys())), reverse=True))"
   ]
  },
  {
   "cell_type": "code",
   "execution_count": null,
   "id": "98b1961c-8f67-4e8c-9687-0f4eef5c2dfc",
   "metadata": {
    "tags": []
   },
   "outputs": [],
   "source": [
    "ordered_feature_names"
   ]
  },
  {
   "cell_type": "code",
   "execution_count": null,
   "id": "3933ab4b-24b6-44f6-bf3b-4cdc1e766e48",
   "metadata": {
    "tags": []
   },
   "outputs": [],
   "source": [
    "ordered_features"
   ]
  },
  {
   "cell_type": "code",
   "execution_count": null,
   "id": "bed27511-7c5b-4855-8144-b81f82c817d1",
   "metadata": {
    "tags": []
   },
   "outputs": [],
   "source": [
    "import os\n",
    "\n",
    "os.listdir('/media/ELAsTICC/transfer_elasticc_all_SN_like/')"
   ]
  },
  {
   "cell_type": "code",
   "execution_count": null,
   "id": "91983ef7-07d0-4d7b-80a5-bd2ace31697b",
   "metadata": {},
   "outputs": [],
   "source": []
  }
 ],
 "metadata": {
  "kernelspec": {
   "display_name": "Python 3 (ipykernel)",
   "language": "python",
   "name": "python3"
  },
  "language_info": {
   "codemirror_mode": {
    "name": "ipython",
    "version": 3
   },
   "file_extension": ".py",
   "mimetype": "text/x-python",
   "name": "python",
   "nbconvert_exporter": "python",
   "pygments_lexer": "ipython3",
   "version": "3.9.14"
  }
 },
 "nbformat": 4,
 "nbformat_minor": 5
}
